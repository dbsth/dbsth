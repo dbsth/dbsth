{
  "nbformat": 4,
  "nbformat_minor": 0,
  "metadata": {
    "colab": {
      "provenance": []
    },
    "kernelspec": {
      "name": "python3",
      "display_name": "Python 3"
    },
    "language_info": {
      "name": "python"
    }
  },
  "cells": [
    {
      "cell_type": "code",
      "source": [
        "import requests\n",
        "from bs4 import BeautifulSoup\n",
        "import json\n",
        "import re\n",
        "from datetime import datetime\n",
        "\n",
        "# 크롤링할 공지사항 URL (게시글 상세보기)\n",
        "url = \"https://cse.kangwon.ac.kr/cse/community/undergraduate-notice.do?mode=view&articleNo=477622&article.offset=0&articleLimit=10#!/list\"\n",
        "\n",
        "# 웹페이지 가져오기\n",
        "response = requests.get(url, headers={\"User-Agent\": \"Mozilla/5.0\"})\n",
        "soup = BeautifulSoup(response.text, \"html.parser\")\n",
        "\n",
        "# 공지사항 데이터 저장 리스트\n",
        "notices_data = []\n",
        "\n",
        "# 공지 제목\n",
        "title_tag = soup.select_one(\"p.b-title-box span:nth-of-type(2)\")\n",
        "title = title_tag.text.strip() if title_tag else \"제목 없음\"\n",
        "\n",
        "# 게시 날짜\n",
        "date_tag = soup.select_one(\"div.b-etc-box li.b-date-box\")\n",
        "date = re.sub(r\"작성일\\s*\", \"\", date_tag.text.strip()) if date_tag else \"날짜 없음\"\n",
        "\n",
        "# 공지 내용\n",
        "content_tag = soup.select_one(\"div.b-content-box div.fr-view\")\n",
        "if content_tag:\n",
        "    content = re.sub(r\"\\s+\", \" \", content_tag.text.strip())  # 여러 개의 공백을 하나로\n",
        "    content = content.replace(\"\\u00a0\", \" \")  # `NBSP` 제거\n",
        "else:\n",
        "    content = \"내용 없음\"\n",
        "\n",
        "# JSON 형식의 데이터 구조\n",
        "notice_data = {\n",
        "    \"title\": title,\n",
        "    \"date\": date,\n",
        "    \"content\": content,\n",
        "    \"last_crawled\": datetime.utcnow().isoformat() + \"Z\",\n",
        "    \"status\": \"active\",\n",
        "    \"crawl_frequency\": \"daily\",\n",
        "    \"crawl_timeout\": 30,\n",
        "    \"crawl_delay\": 5\n",
        "}\n",
        "\n",
        "notices_data.append(notice_data)\n",
        "\n",
        "# JSON 파일로 저장\n",
        "with open(\"notices.json\", \"w\", encoding=\"utf-8\") as f:\n",
        "    json.dump(notices_data, f, ensure_ascii=False, indent=4)"
      ],
      "metadata": {
        "colab": {
          "base_uri": "https://localhost:8080/"
        },
        "id": "drnarZibfK50",
        "outputId": "2b10f6ab-60d3-4aa8-83fa-60d5e6d3c035"
      },
      "execution_count": 41,
      "outputs": [
        {
          "output_type": "stream",
          "name": "stdout",
          "text": [
            "크롤링 완료! notices.json 파일에 저장됨.\n"
          ]
        }
      ]
    }
  ]
}