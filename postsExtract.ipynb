{
  "nbformat": 4,
  "nbformat_minor": 0,
  "metadata": {
    "colab": {
      "provenance": [],
      "authorship_tag": "ABX9TyMI8r+FsIBk/bsKNFl50RrB",
      "include_colab_link": true
    },
    "kernelspec": {
      "name": "python3",
      "display_name": "Python 3"
    },
    "language_info": {
      "name": "python"
    }
  },
  "cells": [
    {
      "cell_type": "markdown",
      "metadata": {
        "id": "view-in-github",
        "colab_type": "text"
      },
      "source": [
        "<a href=\"https://colab.research.google.com/github/dbsth/dbsth/blob/ysj/postsExtract.ipynb\" target=\"_parent\"><img src=\"https://colab.research.google.com/assets/colab-badge.svg\" alt=\"Open In Colab\"/></a>"
      ]
    },
    {
      "cell_type": "code",
      "source": [
        "import requests\n",
        "from bs4 import BeautifulSoup\n",
        "import json\n",
        "import re\n",
        "from datetime import datetime\n",
        "import json\n",
        "import os\n",
        "\n",
        "# 크롤링할 공지사항 URL (게시글 상세보기)\n",
        "url = \"https://cse.kangwon.ac.kr/cse/community/undergraduate-notice.do?mode=view&articleNo=477622&article.offset=0&articleLimit=10#!/list\"\n",
        "\n",
        "# 웹페이지 가져오기\n",
        "response = requests.get(url, headers={\"User-Agent\": \"Mozilla/5.0\"})\n",
        "soup = BeautifulSoup(response.text, \"html.parser\")\n",
        "\n",
        "# 공지사항 데이터 저장 리스트\n",
        "notices_data = []\n",
        "\n",
        "# 공지 제목\n",
        "title_tag = soup.select_one(\"p.b-title-box span:nth-of-type(2)\")\n",
        "title = title_tag.text.strip() if title_tag else \"제목 없음\"\n",
        "\n",
        "# 게시 날짜\n",
        "date_tag = soup.select_one(\"div.b-etc-box li.b-date-box\")\n",
        "date = re.sub(r\"작성일\\s*\", \"\", date_tag.text.strip()) if date_tag else \"날짜 없음\"\n",
        "\n",
        "# 공지 내용\n",
        "content_tag = soup.select_one(\"div.b-content-box div.fr-view\")\n",
        "if content_tag:\n",
        "    content = re.sub(r\"\\s+\", \" \", content_tag.text.strip())  # 여러 개의 공백을 하나로\n",
        "    content = content.replace(\"\\u00a0\", \" \")  # `NBSP` 제거\n",
        "else:\n",
        "    content = \"내용 없음\"\n",
        "\n",
        "# JSON 형식의 데이터 구조\n",
        "notice_data = {\n",
        "    \"title\": title,\n",
        "    \"date\": date,\n",
        "    \"content\": content,\n",
        "    \"last_crawled\": datetime.utcnow().isoformat() + \"Z\",\n",
        "    \"status\": \"active\",\n",
        "    \"crawl_frequency\": \"daily\",\n",
        "    \"crawl_timeout\": 30,\n",
        "    \"crawl_delay\": 5\n",
        "}\n",
        "\n",
        "notices_data.append(notice_data)\n",
        "\n",
        "# JSON 파일로 저장\n",
        "with open(\"notices.json\", \"w\", encoding=\"utf-8\") as f:\n",
        "    json.dump(notices_data, f, ensure_ascii=False, indent=4)\n",
        "\n",
        "print(\"complete! saved in json file.\")"
      ],
      "metadata": {
        "colab": {
          "base_uri": "https://localhost:8080/"
        },
        "id": "drnarZibfK50",
        "outputId": "4a6c7fd2-12df-478a-fbe7-826a428aba03"
      },
      "execution_count": 15,
      "outputs": [
        {
          "output_type": "stream",
          "name": "stdout",
          "text": [
            "complete! saved in json file.\n"
          ]
        }
      ]
    },
    {
      "cell_type": "code",
      "source": [
        "\n",
        "# 크롤링할 공지사항 URL (게시글 상세보기)\n",
        "url = \"https://cse.kangwon.ac.kr/cse/community/undergraduate-notice.do?mode=view&articleNo=474243&article.offset=0&articleLimit=10#!/list\"\n",
        "\n",
        "# 웹페이지 가져오기\n",
        "response = requests.get(url, headers={\"User-Agent\": \"Mozilla/5.0\"})\n",
        "soup = BeautifulSoup(response.text, \"html.parser\")\n",
        "\n",
        "# 공지사항 데이터 저장 리스트\n",
        "notices_data = []\n",
        "\n",
        "# 공지 제목\n",
        "title_tag = soup.select_one(\"p.b-title-box span:nth-of-type(2)\")\n",
        "title = title_tag.text.strip() if title_tag else \"제목 없음\"\n",
        "\n",
        "# 게시 날짜\n",
        "date_tag = soup.select_one(\"div.b-etc-box li.b-date-box\")\n",
        "date = re.sub(r\"작성일\\s*\", \"\", date_tag.text.strip()) if date_tag else \"날짜 없음\"\n",
        "\n",
        "# 공지 내용\n",
        "content_tag = soup.select_one(\"div.b-content-box div.fr-view\")\n",
        "if content_tag:\n",
        "    content = re.sub(r\"\\s+\", \" \", content_tag.text.strip())  # 여러 개의 공백을 하나로\n",
        "    content = content.replace(\"\\u00a0\", \" \")  # `NBSP` 제거\n",
        "else:\n",
        "    content = \"내용 없음\"\n",
        "\n",
        "json_file = \"notices.json\"\n",
        "\n",
        "new_notice = {\n",
        "    \"title\": title,\n",
        "    \"date\": date,\n",
        "    \"content\": content,\n",
        "    \"last_crawled\": datetime.utcnow().isoformat() + \"Z\",\n",
        "    \"status\": \"active\",\n",
        "    \"crawl_frequency\": \"daily\",\n",
        "    \"crawl_timeout\": 30,\n",
        "    \"crawl_delay\": 5\n",
        "}\n",
        "\n",
        "if os.path.exists(json_file):\n",
        "  with open(json_file, \"r\", encoding=\"utf-8\") as f:\n",
        "    try:\n",
        "      notices = json.load(f)\n",
        "      if not isinstance(notices, list):\n",
        "        notices = [notices]\n",
        "    except json.JSONDecodeError:\n",
        "      notices = []\n",
        "else:\n",
        "  notices = []\n",
        "\n",
        "is_duplicate = any(n[\"title\"] == new_notice[\"title\"] and n[\"date\"] == new_notice[\"date\"] for n in notices)\n",
        "\n",
        "if not is_duplicate:\n",
        "  notices.append(new_notice)\n",
        "\n",
        "with  open(json_file, \"w\", encoding=\"utf-8\") as f:\n",
        "  json.dump(notices, f, ensure_ascii=False, indent=4)\n",
        "\n",
        "print(\"new_notice is added in notices.json\")"
      ],
      "metadata": {
        "colab": {
          "base_uri": "https://localhost:8080/"
        },
        "id": "7_uPq2BIfUuA",
        "outputId": "10e1c58f-e757-46ca-80ac-52dc2e9f27f0"
      },
      "execution_count": 16,
      "outputs": [
        {
          "output_type": "stream",
          "name": "stdout",
          "text": [
            "new_notice is added in notices.json\n"
          ]
        }
      ]
    }
  ]
}